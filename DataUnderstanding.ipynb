{
 "cells": [
  {
   "cell_type": "markdown",
   "metadata": {},
   "source": [
    "<div class=\"alert alert-block alert-warning\">\n",
    "    <h1><center> Crisp Data Mining (CRISP-DM) : DATA UNDERSTANDING  </center></h1>"
   ]
  },
  {
   "cell_type": "markdown",
   "metadata": {},
   "source": [
    "## Introduction\n",
    "\n",
    " _data understanding_ and  _data preparation_ stages of the Crisp Data Mining (CRISP-DM) model, foorming the basis for the modeling phase of the data mining process\n",
    " \n",
    " The questions to be answered: \n",
    "\n",
    "- Is the data quality sufficient?\n",
    "- How can we check the data for problems?\n",
    "- How do we have to clean the data?\n",
    "- How is the data best transformed for modeling?\n",
    "\n",
    "In this code I check the validity of data and familiarize myself with a dataset \n",
    " \n",
    "------------"
   ]
  },
  {
   "cell_type": "markdown",
   "metadata": {
    "id": "2I2WLapM3BPc"
   },
   "source": [
    "### Packages "
   ]
  },
  {
   "cell_type": "code",
   "execution_count": 1,
   "metadata": {
    "id": "kNsRA1WF3BPc"
   },
   "outputs": [],
   "source": [
    "# --- Libraries ---\n",
    "import pandas as pd # for data manipulation\n",
    "import matplotlib.pyplot as plt # for plotting\n",
    "import numpy as np #for numeric calculations and making simulated data.\n",
    "import seaborn as sns # for plotting, an extension on matplotlib \n",
    "\n",
    "# - sklearn has many data analysis utility functions like scaling as well as a large variety of modeling tools.\n",
    "from sklearn.decomposition import PCA \n",
    "from sklearn.preprocessing import StandardScaler\n",
    "from sklearn.preprocessing import minmax_scale\n",
    "from sklearn.preprocessing import scale\n",
    "from sklearn.manifold import TSNE\n",
    "\n",
    "# This forces plots to be shown inline in the notebook\n",
    "%matplotlib inline"
   ]
  },
  {
   "cell_type": "markdown",
   "metadata": {
    "id": "8AZs1Rdr3BPd"
   },
   "source": [
    "##  <font color = dimgrey> 1. Introduction to the dataset </font>"
   ]
  },
  {
   "cell_type": "markdown",
   "metadata": {
    "id": "2Y4dstDz3BPe"
   },
   "source": [
    "The data gathered on hospital patients with and without cardiovascular disease, depicted by the target variable **_cardio_**, a common disease associated with a buildup of fatty deposits inside the arteries (blood vessels) of the heart. \n",
    " \n",
    " -------\n",
    "The features/variables have been retrieved from different sources: \n",
    "- doctors notes (texts)\n",
    "- examination variables that have come from a database containing lab results or taken during a doctors examination\n",
    "- self reported variables\n",
    "\n",
    "--------------\n",
    "The data has the following columns/attributes:\n",
    "\n",
    "| Feature | Type | Explanation |\n",
    "| :- | :- | :-\n",
    "| age | numeric | The age of the patient in days \n",
    "| sex | binary | Male/Female\n",
    "| weight | numeric | Measured weight of the patient (cm)\n",
    "| height | numeric | Measured weight of the patient (kg)\n",
    "| ap_hi | numeric | Measured Systolic blood pressure\n",
    "| ap_lo | numeric | Measured Diastolic blood pressure\n",
    "| smoke | binary | A subjective feature based on asking the patient whether or not he/she smokes\n",
    "| active | binary |  A subjective feature based on asking the patient whether or not he/she exercises regularly\n",
    "| cholesterol | categorical | Cholesterol associated risk information evaluated by a doctor\n",
    "| cardio | binary | Whether or not the patient has been diagnosed with cardiac disease."
   ]
  },
  {
   "cell_type": "markdown",
   "metadata": {
    "id": "jMatXBHE3BPh"
   },
   "source": [
    "-----------\n",
    "#### ***Reading data*** \n",
    "\n",
    "---------------"
   ]
  },
  {
   "cell_type": "code",
   "execution_count": 7,
   "metadata": {},
   "outputs": [],
   "source": [
    "\n",
    "data_path = \"cardiovascular_disease_data_ex_1.csv\" \n",
    "data = pd.read_csv(data_path, dtype = {'age': 'int', 'height': 'int', 'weight':'int', 'ap_lo':'int', 'ap_hi':'int', 'sex': 'boolean', 'smoke': 'boolean',\n",
    "       'active':'boolean', 'cardio':'boolean', 'cholesterol':'category'}) "
   ]
  },
  {
   "cell_type": "markdown",
   "metadata": {},
   "source": [
    "---------\n",
    "***1 a)***\n",
    "1. Printing out the first five rows of the data.\n",
    "\n",
    "2. Saving the feature names to lists by their types: make three lists named **numeric_features**, **binary_features** and **categorical_features**, containing the **names** of the features of each corresponding type.\n",
    "\n",
    "_Saving the feature names to a list or lists and using them to subset prevents typing errors and avoids repetition_"
   ]
  },
  {
   "cell_type": "code",
   "execution_count": 8,
   "metadata": {},
   "outputs": [
    {
     "name": "stdout",
     "output_type": "stream",
     "text": [
      "     age    sex  height  weight  ap_hi  ap_lo  smoke  active  cardio  \\\n",
      "0  19797  False     161      55    102     68  False    True   False   \n",
      "1  22571   True     178      68    120     70  False   False   False   \n",
      "2  16621   True     169      69    120     80  False    True   False   \n",
      "3  16688  False     156      77    120     80  False    True   False   \n",
      "4  19498   True     170      98    130     80   True    True    True   \n",
      "\n",
      "  cholesterol  \n",
      "0    elevated  \n",
      "1      normal  \n",
      "2      normal  \n",
      "3      normal  \n",
      "4    elevated  \n"
     ]
    }
   ],
   "source": [
    "print(data.head(5)) # printing first 5 rows\n",
    "\n",
    "# putting numeric features in a seperated variable\n",
    "numeric_features = data.select_dtypes('int')\n",
    "\n",
    "# putting binary features in a seperated variable\n",
    "binary_features = data.select_dtypes('boolean')\n",
    "\n",
    "# putting categorical features in a seperated variable\n",
    "categorical_features = data.select_dtypes('category')"
   ]
  },
  {
   "cell_type": "markdown",
   "metadata": {},
   "source": [
    "_________\n",
    "## 2. Checking data quality\n",
    "    \n",
    "Often in data analysis projects the data has not been gathered exclusively for the data analysis only but originally for other reasons. Because of this, the features are most often not nicely formatted and may have mistakes. It is very important to first check the data for possible mistakes as they can make all the conclusions.\n"
   ]
  },
  {
   "cell_type": "markdown",
   "metadata": {},
   "source": [
    "----------\n",
    "***2 a)***  Printing out the data types of dataset"
   ]
  },
  {
   "cell_type": "code",
   "execution_count": 9,
   "metadata": {},
   "outputs": [
    {
     "data": {
      "text/plain": [
       "age               int64\n",
       "sex             boolean\n",
       "height            int64\n",
       "weight            int64\n",
       "ap_hi             int64\n",
       "ap_lo             int64\n",
       "smoke           boolean\n",
       "active          boolean\n",
       "cardio          boolean\n",
       "cholesterol    category\n",
       "dtype: object"
      ]
     },
     "execution_count": 9,
     "metadata": {},
     "output_type": "execute_result"
    }
   ],
   "source": [
    "data.dtypes #printing data types in our dataset"
   ]
  },
  {
   "cell_type": "markdown",
   "metadata": {},
   "source": [
    "--------\n",
    "***2 b)***  \n"
   ]
  },
  {
   "cell_type": "code",
   "execution_count": 10,
   "metadata": {},
   "outputs": [
    {
     "data": {
      "text/html": [
       "<div>\n",
       "<style scoped>\n",
       "    .dataframe tbody tr th:only-of-type {\n",
       "        vertical-align: middle;\n",
       "    }\n",
       "\n",
       "    .dataframe tbody tr th {\n",
       "        vertical-align: top;\n",
       "    }\n",
       "\n",
       "    .dataframe thead th {\n",
       "        text-align: right;\n",
       "    }\n",
       "</style>\n",
       "<table border=\"1\" class=\"dataframe\">\n",
       "  <thead>\n",
       "    <tr style=\"text-align: right;\">\n",
       "      <th></th>\n",
       "      <th>age</th>\n",
       "      <th>height</th>\n",
       "      <th>weight</th>\n",
       "      <th>ap_hi</th>\n",
       "      <th>ap_lo</th>\n",
       "    </tr>\n",
       "  </thead>\n",
       "  <tbody>\n",
       "    <tr>\n",
       "      <th>count</th>\n",
       "      <td>210.000000</td>\n",
       "      <td>210.000000</td>\n",
       "      <td>210.000000</td>\n",
       "      <td>210.000000</td>\n",
       "      <td>210.000000</td>\n",
       "    </tr>\n",
       "    <tr>\n",
       "      <th>mean</th>\n",
       "      <td>19455.504762</td>\n",
       "      <td>164.180952</td>\n",
       "      <td>73.895238</td>\n",
       "      <td>127.857143</td>\n",
       "      <td>81.814286</td>\n",
       "    </tr>\n",
       "    <tr>\n",
       "      <th>std</th>\n",
       "      <td>2429.010199</td>\n",
       "      <td>7.534648</td>\n",
       "      <td>14.612326</td>\n",
       "      <td>17.508947</td>\n",
       "      <td>9.947652</td>\n",
       "    </tr>\n",
       "    <tr>\n",
       "      <th>min</th>\n",
       "      <td>14367.000000</td>\n",
       "      <td>142.000000</td>\n",
       "      <td>45.000000</td>\n",
       "      <td>90.000000</td>\n",
       "      <td>50.000000</td>\n",
       "    </tr>\n",
       "    <tr>\n",
       "      <th>25%</th>\n",
       "      <td>17635.750000</td>\n",
       "      <td>158.000000</td>\n",
       "      <td>64.000000</td>\n",
       "      <td>120.000000</td>\n",
       "      <td>80.000000</td>\n",
       "    </tr>\n",
       "    <tr>\n",
       "      <th>50%</th>\n",
       "      <td>19778.000000</td>\n",
       "      <td>164.000000</td>\n",
       "      <td>70.000000</td>\n",
       "      <td>120.000000</td>\n",
       "      <td>80.000000</td>\n",
       "    </tr>\n",
       "    <tr>\n",
       "      <th>75%</th>\n",
       "      <td>21230.500000</td>\n",
       "      <td>170.000000</td>\n",
       "      <td>81.000000</td>\n",
       "      <td>140.000000</td>\n",
       "      <td>90.000000</td>\n",
       "    </tr>\n",
       "    <tr>\n",
       "      <th>max</th>\n",
       "      <td>23565.000000</td>\n",
       "      <td>195.000000</td>\n",
       "      <td>125.000000</td>\n",
       "      <td>190.000000</td>\n",
       "      <td>120.000000</td>\n",
       "    </tr>\n",
       "  </tbody>\n",
       "</table>\n",
       "</div>"
      ],
      "text/plain": [
       "                age      height      weight       ap_hi       ap_lo\n",
       "count    210.000000  210.000000  210.000000  210.000000  210.000000\n",
       "mean   19455.504762  164.180952   73.895238  127.857143   81.814286\n",
       "std     2429.010199    7.534648   14.612326   17.508947    9.947652\n",
       "min    14367.000000  142.000000   45.000000   90.000000   50.000000\n",
       "25%    17635.750000  158.000000   64.000000  120.000000   80.000000\n",
       "50%    19778.000000  164.000000   70.000000  120.000000   80.000000\n",
       "75%    21230.500000  170.000000   81.000000  140.000000   90.000000\n",
       "max    23565.000000  195.000000  125.000000  190.000000  120.000000"
      ]
     },
     "execution_count": 10,
     "metadata": {},
     "output_type": "execute_result"
    }
   ],
   "source": [
    "data.describe() # printing description of the whole data"
   ]
  },
  {
   "cell_type": "markdown",
   "metadata": {},
   "source": [
    "<font color=red> We only got the numeric data. Statistics like mean and std can be defined only for numeric data. </font>"
   ]
  },
  {
   "cell_type": "markdown",
   "metadata": {},
   "source": [
    "----------\n",
    "***2 d)*** Calculating descriptives for the binary (boolean) features and the categorical feature <br>"
   ]
  },
  {
   "cell_type": "code",
   "execution_count": 11,
   "metadata": {},
   "outputs": [
    {
     "name": "stdout",
     "output_type": "stream",
     "text": [
      "          sex  smoke active cardio\n",
      "count     210    210    210    210\n",
      "unique      2      2      2      2\n",
      "top     False  False   True  False\n",
      "freq      129    186    162    105\n"
     ]
    }
   ],
   "source": [
    "print(binary_features.describe()) # printing description of binary features"
   ]
  },
  {
   "cell_type": "code",
   "execution_count": 12,
   "metadata": {},
   "outputs": [
    {
     "name": "stdout",
     "output_type": "stream",
     "text": [
      "       cholesterol\n",
      "count          210\n",
      "unique           4\n",
      "top         normal\n",
      "freq           153\n"
     ]
    }
   ],
   "source": [
    "print(categorical_features.describe()) # printing description of categorical features"
   ]
  },
  {
   "cell_type": "code",
   "execution_count": 13,
   "metadata": {},
   "outputs": [
    {
     "name": "stdout",
     "output_type": "stream",
     "text": [
      "sex   value counts:  False:  129 True:  81\n",
      "\t False Portion:  0.6143 \tTrue Portion:  0.3857\n",
      "\n",
      "smoke   value counts:  False:  186 True:  24\n",
      "\t False Portion:  0.8857 \tTrue Portion:  0.1143\n",
      "\n",
      "active   value counts:  False:  162 True:  48\n",
      "\t False Portion:  0.7714 \tTrue Portion:  0.2286\n",
      "\n",
      "cardio   value counts:  False:  105 True:  105\n",
      "\t False Portion:  0.5 \tTrue Portion:  0.5\n",
      "\n"
     ]
    }
   ],
   "source": [
    "# calculating  portion of each category and the number of samples including category\n",
    "# For binary features\n",
    "for col in binary_features.columns:\n",
    "    v_counts = binary_features[col].value_counts().to_list()\n",
    "    print(col, ' ', 'value counts: ', 'False: ',v_counts[0], 'True: ', v_counts[1])\n",
    "    print('\\t False Portion: ', round(v_counts[0]/len(binary_features[col]),4), '\\tTrue Portion: ',\n",
    "          round(v_counts[1]/len(binary_features[col]),4), end='\\n\\n')\n"
   ]
  },
  {
   "cell_type": "code",
   "execution_count": 14,
   "metadata": {},
   "outputs": [
    {
     "name": "stdout",
     "output_type": "stream",
     "text": [
      "cholesterol   value counts: \n",
      "normal :  153\n",
      "normal  Portion:  0.7286\n",
      "\n",
      "at risk :  35\n",
      "at risk  Portion:  0.1667\n",
      "\n",
      "elevated :  21\n",
      "elevated  Portion:  0.1\n",
      "\n",
      "elev ated :  1\n",
      "elev ated  Portion:  0.0048\n",
      "\n"
     ]
    }
   ],
   "source": [
    "# calculating  portion of each category and the number of samples including category\n",
    "# For categorical features\n",
    "for col in categorical_features.columns:\n",
    "    v_counts = categorical_features[col].value_counts().to_dict()\n",
    "    print(col, ' ', 'value counts: ')\n",
    "    for key , value in v_counts.items():\n",
    "        print( key,': ',value)\n",
    "        print( key, ' Portion: ', round(value/len(categorical_features[col]),4), end='\\n\\n')"
   ]
  },
  {
   "cell_type": "markdown",
   "metadata": {},
   "source": [
    "<font color = red> ***--- The datatype 'Mean' will be equal to the Fraction. Also, Median will be the Top value.\n",
    "\n",
    "We can assign min and max to the features as well. Max is the top and Min is the value that is not Top. ---*** </font>\n"
   ]
  },
  {
   "cell_type": "markdown",
   "metadata": {},
   "source": [
    "-----------------------\n",
    "## 3. Plotting numeric features\n",
    "Descriptives don't really give a full or intuitive picture of the distribution of features. I make use of different plots to check the data quality.  "
   ]
  },
  {
   "cell_type": "markdown",
   "metadata": {},
   "source": [
    "----------\n",
    "***3 a)*** \n"
   ]
  },
  {
   "cell_type": "code",
   "execution_count": 16,
   "metadata": {},
   "outputs": [
    {
     "data": {
      "image/png": "[encoded data removed]",
      "text/plain": [
       "<Figure size 720x720 with 5 Axes>"
      ]
     },
     "metadata": {
      "needs_background": "light"
     },
     "output_type": "display_data"
    }
   ],
   "source": [
    "numeric_plot_titles = list(numeric_features) # creating a list of numeric features' names\n",
    "features_length = len(numeric_plot_titles) # calculating number of features\n",
    "fig, axes = plt.subplots(features_length,1, figsize = (10,10)) # creating subplots as many as features\n",
    "\n",
    "# creating a histogram for each plot\n",
    "for j, num_data in enumerate(numeric_features): \n",
    "    sns.histplot(data = numeric_features[num_data], ax = axes[j]) "
   ]
  },
  {
   "cell_type": "markdown",
   "metadata": {},
   "source": [
    "_______\n",
    "## 4. Plotting binary and categorical features"
   ]
  },
  {
   "cell_type": "markdown",
   "metadata": {},
   "source": [
    "***4 a)*** Plotting **barplots** for each of the non-numeric features, Using fractions instead of the real frequencies of the levels of these features.\n",
    "\n",
    "--------------"
   ]
  },
  {
   "cell_type": "code",
   "execution_count": 17,
   "metadata": {},
   "outputs": [
    {
     "data": {
      "image/png": "[encoded data removed]",
      "text/plain": [
       "<Figure size 360x360 with 4 Axes>"
      ]
     },
     "metadata": {
      "needs_background": "light"
     },
     "output_type": "display_data"
    }
   ],
   "source": [
    "binary_plot_titles = list(binary_features)# creating a list of binary features' names\n",
    "fig, axes = plt.subplots(4,1, figsize = (5,5)) # creating a 4 subplots in a fig with size 5*5\n",
    "\n",
    "# creating two bars (True and False) for each binary feature\n",
    "for j, bin_data in enumerate(binary_features): \n",
    "    v_counts = binary_features[bin_data].value_counts().to_list()\n",
    "    axes[j].bar(x = [\"False\",\"True\"], height = [v_counts[0]/len(binary_features[bin_data])\n",
    "                                                , v_counts[1]/len(binary_features[bin_data]) ])\n",
    "    # setting a title for each plot\n",
    "    axes[j].set_title(binary_plot_titles[j])\n",
    "    \n",
    "    # setting the y axes from 0 to 1 for each subplot\n",
    "    axes[j].set_ylim((0,1))\n",
    "\n",
    "# setting a subtitle for the whole fig\n",
    "fig.suptitle(\"Plotting binary features\")\n",
    "plt.tight_layout()"
   ]
  },
  {
   "cell_type": "code",
   "execution_count": 18,
   "metadata": {},
   "outputs": [
    {
     "data": {
      "image/png": "[encoded data removed]",
      "text/plain": [
       "<Figure size 360x360 with 1 Axes>"
      ]
     },
     "metadata": {
      "needs_background": "light"
     },
     "output_type": "display_data"
    }
   ],
   "source": [
    "categorical_plot_titles = list(categorical_features) # creating a list of categorical features' names\n",
    "fig, axes = plt.subplots(1, figsize = (5,5)) # creating a plot with size 5*5\n",
    " \n",
    "v_counts = categorical_features.value_counts().to_dict() #creating a dictionary of value counts and names\n",
    "\n",
    "# calculating the portion of each category and drawing its bar\n",
    "for key, value in v_counts.items():\n",
    "    axes.bar(x = key, height = value/len(categorical_features[categorical_plot_titles[0]]))\n",
    "\n",
    "# setting a title for the plot\n",
    "axes.set_title(categorical_plot_titles[0])\n",
    "\n",
    "# setting the y axes from 0 to 1\n",
    "axes.set_ylim((0,1))\n",
    "\n",
    "# setting a subtitle for the fig\n",
    "fig.suptitle(\"Plotting categorical features\")\n",
    "plt.tight_layout()"
   ]
  },
  {
   "cell_type": "markdown",
   "metadata": {},
   "source": [
    "**4 b)** \n",
    "Droping the 'elev ated' column of categorical features, the original one is 'elevated'"
   ]
  },
  {
   "cell_type": "code",
   "execution_count": 19,
   "metadata": {},
   "outputs": [
    {
     "name": "stderr",
     "output_type": "stream",
     "text": [
      "/home/maryamt/.local/lib/python3.6/site-packages/ipykernel_launcher.py:2: SettingWithCopyWarning: \n",
      "A value is trying to be set on a copy of a slice from a DataFrame.\n",
      "Try using .loc[row_indexer,col_indexer] = value instead\n",
      "\n",
      "See the caveats in the documentation: https://pandas.pydata.org/pandas-docs/stable/user_guide/indexing.html#returning-a-view-versus-a-copy\n",
      "  \n"
     ]
    }
   ],
   "source": [
    "# droping the 'elev ated' column of categorical features, the original one is 'elevated'\n",
    "categorical_features['cholesterol'] = categorical_features['cholesterol'].cat.remove_categories('elev ated')"
   ]
  },
  {
   "cell_type": "markdown",
   "metadata": {},
   "source": [
    "-------------\n",
    "\n",
    "## 5. Preprocessing numeric features"
   ]
  },
  {
   "cell_type": "markdown",
   "metadata": {},
   "source": [
    "Scaling the data improves the performance of machine learning algorithms in many cases, or perhaps better put, can ruin performance if not done. For instance with distance based algorithms covered in the course such as PCA, T-SNE and KNN some features with large values can dominate the distance calculations. \n",
    "\n",
    "-----------\n",
    "Let's look at two ways of bringing the values to the same scale: **min-max scaling to [0,1]** and **standardizing the features to 0 mean and unit variance** , using sklearn.minmax_scale and sklearn.scale \n",
    "__________________________\n",
    "\n"
   ]
  },
  {
   "cell_type": "markdown",
   "metadata": {},
   "source": [
    "**5 a)** Min-max"
   ]
  },
  {
   "cell_type": "code",
   "execution_count": 20,
   "metadata": {},
   "outputs": [
    {
     "data": {
      "text/html": [
       "<div>\n",
       "<style scoped>\n",
       "    .dataframe tbody tr th:only-of-type {\n",
       "        vertical-align: middle;\n",
       "    }\n",
       "\n",
       "    .dataframe tbody tr th {\n",
       "        vertical-align: top;\n",
       "    }\n",
       "\n",
       "    .dataframe thead th {\n",
       "        text-align: right;\n",
       "    }\n",
       "</style>\n",
       "<table border=\"1\" class=\"dataframe\">\n",
       "  <thead>\n",
       "    <tr style=\"text-align: right;\">\n",
       "      <th></th>\n",
       "      <th>age</th>\n",
       "      <th>height</th>\n",
       "      <th>weight</th>\n",
       "      <th>ap_hi</th>\n",
       "      <th>ap_lo</th>\n",
       "    </tr>\n",
       "  </thead>\n",
       "  <tbody>\n",
       "    <tr>\n",
       "      <th>0</th>\n",
       "      <td>0.590346</td>\n",
       "      <td>0.358491</td>\n",
       "      <td>0.1250</td>\n",
       "      <td>0.12</td>\n",
       "      <td>0.257143</td>\n",
       "    </tr>\n",
       "    <tr>\n",
       "      <th>1</th>\n",
       "      <td>0.891933</td>\n",
       "      <td>0.679245</td>\n",
       "      <td>0.2875</td>\n",
       "      <td>0.30</td>\n",
       "      <td>0.285714</td>\n",
       "    </tr>\n",
       "    <tr>\n",
       "      <th>2</th>\n",
       "      <td>0.245053</td>\n",
       "      <td>0.509434</td>\n",
       "      <td>0.3000</td>\n",
       "      <td>0.30</td>\n",
       "      <td>0.428571</td>\n",
       "    </tr>\n",
       "    <tr>\n",
       "      <th>3</th>\n",
       "      <td>0.252337</td>\n",
       "      <td>0.264151</td>\n",
       "      <td>0.4000</td>\n",
       "      <td>0.30</td>\n",
       "      <td>0.428571</td>\n",
       "    </tr>\n",
       "    <tr>\n",
       "      <th>4</th>\n",
       "      <td>0.557839</td>\n",
       "      <td>0.528302</td>\n",
       "      <td>0.6625</td>\n",
       "      <td>0.40</td>\n",
       "      <td>0.428571</td>\n",
       "    </tr>\n",
       "    <tr>\n",
       "      <th>...</th>\n",
       "      <td>...</td>\n",
       "      <td>...</td>\n",
       "      <td>...</td>\n",
       "      <td>...</td>\n",
       "      <td>...</td>\n",
       "    </tr>\n",
       "    <tr>\n",
       "      <th>205</th>\n",
       "      <td>0.246032</td>\n",
       "      <td>0.301887</td>\n",
       "      <td>0.1250</td>\n",
       "      <td>0.30</td>\n",
       "      <td>0.428571</td>\n",
       "    </tr>\n",
       "    <tr>\n",
       "      <th>206</th>\n",
       "      <td>0.258208</td>\n",
       "      <td>0.528302</td>\n",
       "      <td>0.2875</td>\n",
       "      <td>0.20</td>\n",
       "      <td>0.285714</td>\n",
       "    </tr>\n",
       "    <tr>\n",
       "      <th>207</th>\n",
       "      <td>0.951294</td>\n",
       "      <td>0.283019</td>\n",
       "      <td>0.4125</td>\n",
       "      <td>0.10</td>\n",
       "      <td>0.142857</td>\n",
       "    </tr>\n",
       "    <tr>\n",
       "      <th>208</th>\n",
       "      <td>0.094477</td>\n",
       "      <td>0.207547</td>\n",
       "      <td>0.1250</td>\n",
       "      <td>0.30</td>\n",
       "      <td>0.428571</td>\n",
       "    </tr>\n",
       "    <tr>\n",
       "      <th>209</th>\n",
       "      <td>0.399652</td>\n",
       "      <td>0.566038</td>\n",
       "      <td>0.4125</td>\n",
       "      <td>0.50</td>\n",
       "      <td>0.571429</td>\n",
       "    </tr>\n",
       "  </tbody>\n",
       "</table>\n",
       "<p>210 rows × 5 columns</p>\n",
       "</div>"
      ],
      "text/plain": [
       "          age    height  weight  ap_hi     ap_lo\n",
       "0    0.590346  0.358491  0.1250   0.12  0.257143\n",
       "1    0.891933  0.679245  0.2875   0.30  0.285714\n",
       "2    0.245053  0.509434  0.3000   0.30  0.428571\n",
       "3    0.252337  0.264151  0.4000   0.30  0.428571\n",
       "4    0.557839  0.528302  0.6625   0.40  0.428571\n",
       "..        ...       ...     ...    ...       ...\n",
       "205  0.246032  0.301887  0.1250   0.30  0.428571\n",
       "206  0.258208  0.528302  0.2875   0.20  0.285714\n",
       "207  0.951294  0.283019  0.4125   0.10  0.142857\n",
       "208  0.094477  0.207547  0.1250   0.30  0.428571\n",
       "209  0.399652  0.566038  0.4125   0.50  0.571429\n",
       "\n",
       "[210 rows x 5 columns]"
      ]
     },
     "execution_count": 20,
     "metadata": {},
     "output_type": "execute_result"
    }
   ],
   "source": [
    "# scaling numeric features between 0 and 1 while making a copy and keeping the columns' names\n",
    "data_min_maxed = pd.DataFrame(minmax_scale(numeric_features,feature_range=(0, 1),copy=True),columns=numeric_features.columns)\n",
    "data_min_maxed"
   ]
  },
  {
   "cell_type": "markdown",
   "metadata": {},
   "source": [
    "**5 b)** Standardize numeric attributes to 0 mean and unit variance"
   ]
  },
  {
   "cell_type": "code",
   "execution_count": 21,
   "metadata": {},
   "outputs": [
    {
     "data": {
      "text/html": [
       "<div>\n",
       "<style scoped>\n",
       "    .dataframe tbody tr th:only-of-type {\n",
       "        vertical-align: middle;\n",
       "    }\n",
       "\n",
       "    .dataframe tbody tr th {\n",
       "        vertical-align: top;\n",
       "    }\n",
       "\n",
       "    .dataframe thead th {\n",
       "        text-align: right;\n",
       "    }\n",
       "</style>\n",
       "<table border=\"1\" class=\"dataframe\">\n",
       "  <thead>\n",
       "    <tr style=\"text-align: right;\">\n",
       "      <th></th>\n",
       "      <th>age</th>\n",
       "      <th>height</th>\n",
       "      <th>weight</th>\n",
       "      <th>ap_hi</th>\n",
       "      <th>ap_lo</th>\n",
       "    </tr>\n",
       "  </thead>\n",
       "  <tbody>\n",
       "    <tr>\n",
       "      <th>0</th>\n",
       "      <td>0.140926</td>\n",
       "      <td>-0.423185</td>\n",
       "      <td>-1.296193</td>\n",
       "      <td>-1.480325</td>\n",
       "      <td>-1.392016</td>\n",
       "    </tr>\n",
       "    <tr>\n",
       "      <th>1</th>\n",
       "      <td>1.285684</td>\n",
       "      <td>1.838449</td>\n",
       "      <td>-0.404407</td>\n",
       "      <td>-0.449822</td>\n",
       "      <td>-1.190484</td>\n",
       "    </tr>\n",
       "    <tr>\n",
       "      <th>2</th>\n",
       "      <td>-1.169727</td>\n",
       "      <td>0.641113</td>\n",
       "      <td>-0.335808</td>\n",
       "      <td>-0.449822</td>\n",
       "      <td>-0.182819</td>\n",
       "    </tr>\n",
       "    <tr>\n",
       "      <th>3</th>\n",
       "      <td>-1.142077</td>\n",
       "      <td>-1.088372</td>\n",
       "      <td>0.212983</td>\n",
       "      <td>-0.449822</td>\n",
       "      <td>-0.182819</td>\n",
       "    </tr>\n",
       "    <tr>\n",
       "      <th>4</th>\n",
       "      <td>0.017537</td>\n",
       "      <td>0.774151</td>\n",
       "      <td>1.653560</td>\n",
       "      <td>0.122679</td>\n",
       "      <td>-0.182819</td>\n",
       "    </tr>\n",
       "    <tr>\n",
       "      <th>...</th>\n",
       "      <td>...</td>\n",
       "      <td>...</td>\n",
       "      <td>...</td>\n",
       "      <td>...</td>\n",
       "      <td>...</td>\n",
       "    </tr>\n",
       "    <tr>\n",
       "      <th>205</th>\n",
       "      <td>-1.166013</td>\n",
       "      <td>-0.822297</td>\n",
       "      <td>-1.296193</td>\n",
       "      <td>-0.449822</td>\n",
       "      <td>-0.182819</td>\n",
       "    </tr>\n",
       "    <tr>\n",
       "      <th>206</th>\n",
       "      <td>-1.119793</td>\n",
       "      <td>0.774151</td>\n",
       "      <td>-0.404407</td>\n",
       "      <td>-1.022324</td>\n",
       "      <td>-1.190484</td>\n",
       "    </tr>\n",
       "    <tr>\n",
       "      <th>207</th>\n",
       "      <td>1.511004</td>\n",
       "      <td>-0.955335</td>\n",
       "      <td>0.281582</td>\n",
       "      <td>-1.594825</td>\n",
       "      <td>-2.198148</td>\n",
       "    </tr>\n",
       "    <tr>\n",
       "      <th>208</th>\n",
       "      <td>-1.741280</td>\n",
       "      <td>-1.487484</td>\n",
       "      <td>-1.296193</td>\n",
       "      <td>-0.449822</td>\n",
       "      <td>-0.182819</td>\n",
       "    </tr>\n",
       "    <tr>\n",
       "      <th>209</th>\n",
       "      <td>-0.582904</td>\n",
       "      <td>1.040225</td>\n",
       "      <td>0.281582</td>\n",
       "      <td>0.695180</td>\n",
       "      <td>0.824845</td>\n",
       "    </tr>\n",
       "  </tbody>\n",
       "</table>\n",
       "<p>210 rows × 5 columns</p>\n",
       "</div>"
      ],
      "text/plain": [
       "          age    height    weight     ap_hi     ap_lo\n",
       "0    0.140926 -0.423185 -1.296193 -1.480325 -1.392016\n",
       "1    1.285684  1.838449 -0.404407 -0.449822 -1.190484\n",
       "2   -1.169727  0.641113 -0.335808 -0.449822 -0.182819\n",
       "3   -1.142077 -1.088372  0.212983 -0.449822 -0.182819\n",
       "4    0.017537  0.774151  1.653560  0.122679 -0.182819\n",
       "..        ...       ...       ...       ...       ...\n",
       "205 -1.166013 -0.822297 -1.296193 -0.449822 -0.182819\n",
       "206 -1.119793  0.774151 -0.404407 -1.022324 -1.190484\n",
       "207  1.511004 -0.955335  0.281582 -1.594825 -2.198148\n",
       "208 -1.741280 -1.487484 -1.296193 -0.449822 -0.182819\n",
       "209 -0.582904  1.040225  0.281582  0.695180  0.824845\n",
       "\n",
       "[210 rows x 5 columns]"
      ]
     },
     "execution_count": 21,
     "metadata": {},
     "output_type": "execute_result"
    }
   ],
   "source": [
    "# standardalizing numeric features while making a copy and keeping the columns' names\n",
    "data_standardized = pd.DataFrame(scale(numeric_features, with_mean=True, copy=True),columns=numeric_features.columns)\n",
    "data_standardized"
   ]
  },
  {
   "cell_type": "markdown",
   "metadata": {},
   "source": [
    "**5 c)** Boxplots of the 'age' feature, one plot with the data_min_maxed and one with the data_standardized"
   ]
  },
  {
   "cell_type": "code",
   "execution_count": 22,
   "metadata": {},
   "outputs": [
    {
     "data": {
      "text/plain": [
       "{'whiskers': [<matplotlib.lines.Line2D at 0x7fc88bd98da0>,\n",
       "  <matplotlib.lines.Line2D at 0x7fc88bd986a0>],\n",
       " 'caps': [<matplotlib.lines.Line2D at 0x7fc88bd98080>,\n",
       "  <matplotlib.lines.Line2D at 0x7fc88bd98128>],\n",
       " 'boxes': [<matplotlib.lines.Line2D at 0x7fc88bede7b8>],\n",
       " 'medians': [<matplotlib.lines.Line2D at 0x7fc88be24c88>],\n",
       " 'fliers': [<matplotlib.lines.Line2D at 0x7fc88be24518>],\n",
       " 'means': []}"
      ]
     },
     "execution_count": 22,
     "metadata": {},
     "output_type": "execute_result"
    },
    {
     "data": {
      "image/png": "[encoded data removed]",
      "text/plain": [
       "<Figure size 432x432 with 2 Axes>"
      ]
     },
     "metadata": {
      "needs_background": "light"
     },
     "output_type": "display_data"
    }
   ],
   "source": [
    "# creating 2 subplots in a row, beside each other\n",
    "fig, axes = plt.subplots(1,2,figsize=(6,6))\n",
    "\n",
    "# drawing boxplots for each sunplot\n",
    "axes[0].boxplot(data_min_maxed['age'])\n",
    "axes[1].boxplot(data_standardized['age'])\n"
   ]
  },
  {
   "cell_type": "markdown",
   "metadata": {},
   "source": [
    "---------\n",
    "\n",
    "Lets see the differences of these preprocessing methods through an outlier example.  \n",
    "\n",
    "--------------------\n",
    "\n",
    "***5d)***\n"
   ]
  },
  {
   "cell_type": "code",
   "execution_count": 23,
   "metadata": {},
   "outputs": [],
   "source": [
    "### Add an outlier\n",
    "data_w_outlier = data.copy() \n",
    "data_w_outlier.loc[data.shape[0] -1 , 'age'] = 150 \n",
    "age_w_outlier = data_w_outlier.age"
   ]
  },
  {
   "cell_type": "code",
   "execution_count": 24,
   "metadata": {},
   "outputs": [],
   "source": [
    "# creating age_w_outlier_minmaxed\n",
    "age_w_outlier_minmaxed = minmax_scale(age_w_outlier,feature_range=(0, 1),copy=True)\n",
    "\n",
    "# creating age_w_outlier_standardized\n",
    "age_w_outlier_standardized =  scale(age_w_outlier, with_mean=True, copy=True)"
   ]
  },
  {
   "cell_type": "markdown",
   "metadata": {},
   "source": [
    "***Plotting***"
   ]
  },
  {
   "cell_type": "code",
   "execution_count": 25,
   "metadata": {},
   "outputs": [
    {
     "data": {
      "image/png": "[encoded data removed]",
      "text/plain": [
       "<Figure size 432x288 with 1 Axes>"
      ]
     },
     "metadata": {
      "needs_background": "light"
     },
     "output_type": "display_data"
    },
    {
     "data": {
      "image/png": "[encoded data removed]",
      "text/plain": [
       "<Figure size 432x288 with 1 Axes>"
      ]
     },
     "metadata": {
      "needs_background": "light"
     },
     "output_type": "display_data"
    }
   ],
   "source": [
    "# Wrap of two features - the age feature without the outlier, and the age feature with it, min-maxed.\n",
    "minmaxed_datas = pd.DataFrame({\"minmaxed_age_no_outlier\" : data_min_maxed.age, \n",
    "              \"minmaxed_age_with_outlier\": age_w_outlier_minmaxed })\n",
    "\n",
    "# Wrap of two features - the age feature without the outlier, and the age feature with it, standardized. \n",
    "standardized_datas = pd.DataFrame({\"standardized_data_no_outlier\" : data_standardized.age, \n",
    "              \"standardized_data_w_outlier\": age_w_outlier_standardized })\n",
    "\n",
    "axes_minmaxed = minmaxed_datas[['minmaxed_age_no_outlier', 'minmaxed_age_with_outlier']].plot(kind='box', title='Minmax with and without outlier')\n",
    "axes_std = standardized_datas[['standardized_data_no_outlier', 'standardized_data_w_outlier']].plot(kind='box', title='Standardized with and without outlier')"
   ]
  },
  {
   "cell_type": "markdown",
   "metadata": {},
   "source": [
    "----------\n",
    "**5 f)Conclusion**: \n"
   ]
  },
  {
   "cell_type": "markdown",
   "metadata": {},
   "source": [
    "<font color = red>\n",
    " 1. Min-Max has a specific range and all data will be between 0 and 1. Output cannot be negative. Standardalized does not have a specific range and data can be negative. But it has a specific distribution (normal distribution) and mean is equal to 0. \n",
    "\n",
    "2.These are preprocessing methods and we need to use them before training a network. The network might be sensitive to negative inputs or does not accept them. In this case we need to use min-max method. Also the network might need a normal distribution, in this case we can use standardalized data.\n",
    "</font>"
   ]
  },
  {
   "cell_type": "markdown",
   "metadata": {},
   "source": [
    "---------------\n",
    "## 6. Preprocessing categorical features\n",
    "\n"
   ]
  },
  {
   "cell_type": "markdown",
   "metadata": {},
   "source": [
    "We can roughly divide categorical variables/features to two types:  ***nominal categorical***  and  ***ordinal categorical*** variables/features. Some cases are clear in terms of which of the two a feature falls into. For example nationality is not an ordered feature, but which grade in school someone is has a natural ordering. Here **One-hot encoding** is used.\n",
    "\n",
    "-----\n",
    "***Nominal categorical features need to be encoded***, because not encoding them implies that they have an order.\n",
    "\n",
    "***Ordinal categorical features do not necessarily need to be encoded***, but there are cases where it can be wise, like when its not clear that thy are equal in distance from each other. When unsure, it may also be better to one-hot encode.  \n",
    "\n",
    "---------------------\n"
   ]
  },
  {
   "cell_type": "markdown",
   "metadata": {},
   "source": [
    "**6 a)** One-hot-encode for the cholesterol-feature and adding the one-hot features to the data."
   ]
  },
  {
   "cell_type": "code",
   "execution_count": 26,
   "metadata": {},
   "outputs": [
    {
     "data": {
      "text/html": [
       "<div>\n",
       "<style scoped>\n",
       "    .dataframe tbody tr th:only-of-type {\n",
       "        vertical-align: middle;\n",
       "    }\n",
       "\n",
       "    .dataframe tbody tr th {\n",
       "        vertical-align: top;\n",
       "    }\n",
       "\n",
       "    .dataframe thead th {\n",
       "        text-align: right;\n",
       "    }\n",
       "</style>\n",
       "<table border=\"1\" class=\"dataframe\">\n",
       "  <thead>\n",
       "    <tr style=\"text-align: right;\">\n",
       "      <th></th>\n",
       "      <th>age</th>\n",
       "      <th>sex</th>\n",
       "      <th>height</th>\n",
       "      <th>weight</th>\n",
       "      <th>ap_hi</th>\n",
       "      <th>ap_lo</th>\n",
       "      <th>smoke</th>\n",
       "      <th>active</th>\n",
       "      <th>cardio</th>\n",
       "      <th>cholesterol</th>\n",
       "      <th>normal</th>\n",
       "      <th>at risk</th>\n",
       "      <th>elevated</th>\n",
       "    </tr>\n",
       "  </thead>\n",
       "  <tbody>\n",
       "    <tr>\n",
       "      <th>0</th>\n",
       "      <td>19797</td>\n",
       "      <td>False</td>\n",
       "      <td>161</td>\n",
       "      <td>55</td>\n",
       "      <td>102</td>\n",
       "      <td>68</td>\n",
       "      <td>False</td>\n",
       "      <td>True</td>\n",
       "      <td>False</td>\n",
       "      <td>elevated</td>\n",
       "      <td>0.0</td>\n",
       "      <td>1.0</td>\n",
       "      <td>0.0</td>\n",
       "    </tr>\n",
       "    <tr>\n",
       "      <th>1</th>\n",
       "      <td>22571</td>\n",
       "      <td>True</td>\n",
       "      <td>178</td>\n",
       "      <td>68</td>\n",
       "      <td>120</td>\n",
       "      <td>70</td>\n",
       "      <td>False</td>\n",
       "      <td>False</td>\n",
       "      <td>False</td>\n",
       "      <td>normal</td>\n",
       "      <td>0.0</td>\n",
       "      <td>0.0</td>\n",
       "      <td>1.0</td>\n",
       "    </tr>\n",
       "    <tr>\n",
       "      <th>2</th>\n",
       "      <td>16621</td>\n",
       "      <td>True</td>\n",
       "      <td>169</td>\n",
       "      <td>69</td>\n",
       "      <td>120</td>\n",
       "      <td>80</td>\n",
       "      <td>False</td>\n",
       "      <td>True</td>\n",
       "      <td>False</td>\n",
       "      <td>normal</td>\n",
       "      <td>0.0</td>\n",
       "      <td>0.0</td>\n",
       "      <td>1.0</td>\n",
       "    </tr>\n",
       "    <tr>\n",
       "      <th>3</th>\n",
       "      <td>16688</td>\n",
       "      <td>False</td>\n",
       "      <td>156</td>\n",
       "      <td>77</td>\n",
       "      <td>120</td>\n",
       "      <td>80</td>\n",
       "      <td>False</td>\n",
       "      <td>True</td>\n",
       "      <td>False</td>\n",
       "      <td>normal</td>\n",
       "      <td>0.0</td>\n",
       "      <td>0.0</td>\n",
       "      <td>1.0</td>\n",
       "    </tr>\n",
       "    <tr>\n",
       "      <th>4</th>\n",
       "      <td>19498</td>\n",
       "      <td>True</td>\n",
       "      <td>170</td>\n",
       "      <td>98</td>\n",
       "      <td>130</td>\n",
       "      <td>80</td>\n",
       "      <td>True</td>\n",
       "      <td>True</td>\n",
       "      <td>True</td>\n",
       "      <td>elevated</td>\n",
       "      <td>0.0</td>\n",
       "      <td>1.0</td>\n",
       "      <td>0.0</td>\n",
       "    </tr>\n",
       "  </tbody>\n",
       "</table>\n",
       "</div>"
      ],
      "text/plain": [
       "     age    sex  height  weight  ap_hi  ap_lo  smoke  active  cardio  \\\n",
       "0  19797  False     161      55    102     68  False    True   False   \n",
       "1  22571   True     178      68    120     70  False   False   False   \n",
       "2  16621   True     169      69    120     80  False    True   False   \n",
       "3  16688  False     156      77    120     80  False    True   False   \n",
       "4  19498   True     170      98    130     80   True    True    True   \n",
       "\n",
       "  cholesterol  normal  at risk  elevated  \n",
       "0    elevated     0.0      1.0       0.0  \n",
       "1      normal     0.0      0.0       1.0  \n",
       "2      normal     0.0      0.0       1.0  \n",
       "3      normal     0.0      0.0       1.0  \n",
       "4    elevated     0.0      1.0       0.0  "
      ]
     },
     "execution_count": 26,
     "metadata": {},
     "output_type": "execute_result"
    }
   ],
   "source": [
    "from sklearn.preprocessing import OneHotEncoder\n",
    "\n",
    "# saving categories of cholerstrol level\n",
    "cols = categorical_features[col].value_counts().to_dict().keys()\n",
    "\n",
    "# creatinng one hot encoder for cholestrol\n",
    "categorical_encoded = OneHotEncoder().fit_transform(categorical_features).toarray()\n",
    "\n",
    "# we have 3 levels, deleting the last one\n",
    "categorical_encoded = categorical_encoded[:,0:3]\n",
    "\n",
    "# naming the columns\n",
    "categorical_encoded = pd.DataFrame(categorical_encoded, columns=cols)\n",
    "\n",
    "# adding it to data\n",
    "data = data.join(categorical_encoded)\n",
    "\n",
    "#printing the first rows\n",
    "data.head()"
   ]
  },
  {
   "cell_type": "markdown",
   "metadata": {},
   "source": [
    "----------"
   ]
  }
 ],
 "metadata": {
  "colab": {
   "name": "DADK_exercise_2_2021.ipynb",
   "provenance": []
  },
  "kernelspec": {
   "display_name": "Python 3",
   "language": "python",
   "name": "python3"
  },
  "language_info": {
   "codemirror_mode": {
    "name": "ipython",
    "version": 3
   },
   "file_extension": ".py",
   "mimetype": "text/x-python",
   "name": "python",
   "nbconvert_exporter": "python",
   "pygments_lexer": "ipython3",
   "version": "3.6.9"
  },
  "toc": {
   "base_numbering": 1,
   "nav_menu": {
    "height": "180px",
    "width": "160px"
   },
   "number_sections": false,
   "sideBar": true,
   "skip_h1_title": true,
   "title_cell": "Table of Contents",
   "title_sidebar": "Contents",
   "toc_cell": false,
   "toc_position": {},
   "toc_section_display": true,
   "toc_window_display": true
  }
 },
 "nbformat": 4,
 "nbformat_minor": 1
}
